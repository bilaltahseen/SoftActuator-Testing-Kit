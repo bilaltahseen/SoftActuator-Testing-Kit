{
 "cells": [
  {
   "cell_type": "code",
   "execution_count": 1,
   "metadata": {},
   "outputs": [],
   "source": [
    "import pandas as pd\n",
    "import numpy as np\n",
    "import matplotlib.pyplot as plt"
   ]
  },
  {
   "cell_type": "code",
   "execution_count": 2,
   "metadata": {},
   "outputs": [],
   "source": [
    "pressure = pd.read_csv('Pressure Log Nov-21-2020-17-28-59.csv',header=None)\n",
    "force = pd.read_table('Report.xls',header=None)"
   ]
  },
  {
   "cell_type": "code",
   "execution_count": 3,
   "metadata": {},
   "outputs": [],
   "source": [
    "force_x = force[0].iloc[6:-1:]\n",
    "force_y = force[1].iloc[6:-1:]\n",
    "pressure_x=pressure[0]\n",
    "pressure_y=pressure[1]\n",
    "force_x=force_x.astype('float64')\n",
    "force_y=force_y.astype('float64')"
   ]
  },
  {
   "cell_type": "code",
   "execution_count": 41,
   "metadata": {},
   "outputs": [],
   "source": [
    "def dpsGenerator(dataArrayX,dataArrayY):\n",
    "    till = int(dataArrayX.round().iloc[-1])\n",
    "    xdata= []\n",
    "    ydata= []\n",
    "    tempMean = []\n",
    "    for i in range(till+1):\n",
    "        for(t,y) in zip(dataArrayX.round(),dataArrayY):\n",
    "            if t == i:\n",
    "                tempMean.append(y)\n",
    "        xdata.append(i)\n",
    "        ydata.append(np.around(np.mean(tempMean),2))\n",
    "    return xdata,ydata\n",
    "            "
   ]
  },
  {
   "cell_type": "code",
   "execution_count": 67,
   "metadata": {},
   "outputs": [],
   "source": [
    "Px,Py = dpsGenerator(pressure_x,pressure_y)\n",
    "Fx,Fy = dpsGenerator(force_x,force_y)\n",
    "if len(Px) >= len(Fx):\n",
    "    Px =Px[:len(Fx)]\n",
    "    Py =Py[:len(Fx)]\n",
    "else:\n",
    "    Fx = Fx[:len(Px)]\n",
    "    Fy = Fy[:len(Px)]"
   ]
  },
  {
   "cell_type": "code",
   "execution_count": 74,
   "metadata": {},
   "outputs": [
    {
     "data": {
      "image/png": "[encoded data removed]",
      "text/plain": [
       "<Figure size 432x288 with 1 Axes>"
      ]
     },
     "metadata": {
      "needs_background": "light"
     },
     "output_type": "display_data"
    }
   ],
   "source": [
    "plt.plot(Py,Fy)\n",
    "plt.xlabel('Pressure Kpa')\n",
    "plt.ylabel('Force N')\n",
    "plt.grid()\n",
    "plt.show()"
   ]
  }
 ],
 "metadata": {
  "kernelspec": {
   "display_name": "Python 3",
   "language": "python",
   "name": "python3"
  },
  "language_info": {
   "codemirror_mode": {
    "name": "ipython",
    "version": 3
   },
   "file_extension": ".py",
   "mimetype": "text/x-python",
   "name": "python",
   "nbconvert_exporter": "python",
   "pygments_lexer": "ipython3",
   "version": "3.8.2"
  }
 },
 "nbformat": 4,
 "nbformat_minor": 4
}
